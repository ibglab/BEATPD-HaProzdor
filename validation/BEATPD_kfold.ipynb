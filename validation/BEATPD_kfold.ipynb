{
 "cells": [
  {
   "cell_type": "markdown",
   "metadata": {},
   "source": [
    "# K-Fold cross validation\n",
    "Generate K sets of training/test pairs from the BEATPD training set\n",
    "Use stratified k-fold splitting based on \"subject_id\""
   ]
  },
  {
   "cell_type": "code",
   "execution_count": null,
   "metadata": {},
   "outputs": [],
   "source": [
    "import logging\n",
    "logging.basicConfig(level=logging.INFO, format='%(levelname)s: %(asctime)s: %(message)s')\n",
    "\n",
    "import os\n",
    "import pandas as pd\n",
    "\n",
    "from sklearn.model_selection import StratifiedKFold"
   ]
  },
  {
   "cell_type": "code",
   "execution_count": null,
   "metadata": {},
   "outputs": [],
   "source": [
    "datasets = ['CIS', 'REAL']\n",
    "K = 5\n",
    "seed = 34"
   ]
  },
  {
   "cell_type": "markdown",
   "metadata": {},
   "source": [
    "### Generate K training/test files "
   ]
  },
  {
   "cell_type": "code",
   "execution_count": null,
   "metadata": {},
   "outputs": [],
   "source": [
    "outputFolder = 'data'\n",
    "if not os.path.isdir(outputFolder):\n",
    "    logging.info(f'Making output dir: {outputFolder}')\n",
    "    os.mkdir(outputFolder)\n",
    "    \n",
    "skf = StratifiedKFold(n_splits=5, shuffle=True, random_state=seed)\n",
    "for dataset in datasets:\n",
    "    df = pd.read_csv(os.path.join('..', 'data', f'{dataset}-PD_Training_Data_IDs_Labels.csv'))\n",
    "    logging.info(f'Dataset: {dataset}\\tRecords: {df.shape[0]}')\n",
    "    for i, (train_index, test_index) in enumerate(skf.split(df, df['subject_id'])):\n",
    "        logging.info(f'({i})\\tTrain: {train_index.shape[0]}\\tTest: {test_index.shape[0]}')\n",
    "        df.loc[train_index].to_csv(os.path.join('data', f'{dataset}-PD_Training_Data_IDs_Labels_S{seed}_K{i}.csv'))\n",
    "        df.loc[test_index].to_csv(os.path.join('data', f'{dataset}-PD_Test_Data_IDs_Labels_S{seed}_K{i}.csv'))"
   ]
  },
  {
   "cell_type": "markdown",
   "metadata": {},
   "source": [
    "### Generate K prediction files"
   ]
  },
  {
   "cell_type": "code",
   "execution_count": null,
   "metadata": {},
   "outputs": [],
   "source": [
    "outputFolder = 'features'\n",
    "if not os.path.isdir(outputFolder):\n",
    "    logging.info(f'Making output dir: {outputFolder}')\n",
    "    os.mkdir(outputFolder)\n",
    "    \n",
    "for kval in range(0,K): \n",
    "    cis_seed_file = f'data/CIS-PD_Test_Data_IDs_Labels_S{seed}_K{kval}.csv'\n",
    "    real_seed_file = f'data/REAL-PD_Test_Data_IDs_Labels_S{seed}_K{kval}.csv'\n",
    "    cis_csv = pd.read_csv(cis_seed_file)\n",
    "    logging.info(f'Seed {seed} CIS: {cis_csv.shape[0]} input records in file {cis_seed_file}')\n",
    "    real_csv = pd.read_csv(real_seed_file)\n",
    "    logging.info(f'Seed {seed} REAL: {real_csv.shape[0]} input records in file {real_seed_file}')\n",
    "    beat_df = pd.DataFrame(columns=['measurement_id', 'prediction'])\n",
    "    beat_df['measurement_id'] = pd.concat([cis_csv['measurement_id'], real_csv['measurement_id']])\n",
    "    beat_df['prediction'] = ''\n",
    "    beat_df.to_csv(f'features/BEAT-PD_SC1_on_off_S{seed}_K{kval}.csv')\n",
    "    beat_df.to_csv(f'features/BEAT-PD_SC2_dyskinesia_S{seed}_K{kval}.csv')\n",
    "    beat_df.to_csv(f'features/BEAT-PD_SC3_tremor_S{seed}_K{kval}.csv')"
   ]
  },
  {
   "cell_type": "code",
   "execution_count": null,
   "metadata": {},
   "outputs": [],
   "source": [
    "    "
   ]
  }
 ],
 "metadata": {
  "kernelspec": {
   "display_name": "Python 3",
   "language": "python",
   "name": "python3"
  },
  "language_info": {
   "codemirror_mode": {
    "name": "ipython",
    "version": 3
   },
   "file_extension": ".py",
   "mimetype": "text/x-python",
   "name": "python",
   "nbconvert_exporter": "python",
   "pygments_lexer": "ipython3",
   "version": "3.6.9"
  }
 },
 "nbformat": 4,
 "nbformat_minor": 4
}
