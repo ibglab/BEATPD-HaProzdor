{
 "cells": [
  {
   "cell_type": "markdown",
   "metadata": {},
   "source": [
    "# Cherry pick\n",
    "Generate the test prediction files using cherry picking from ensembles of feature predictions"
   ]
  },
  {
   "cell_type": "code",
   "execution_count": 1,
   "metadata": {},
   "outputs": [
    {
     "name": "stderr",
     "output_type": "stream",
     "text": [
      "INFO: 2020-05-13 20:12:16,864: Numpy version 1.18.2\n",
      "INFO: 2020-05-13 20:12:16,989: Scipy version 1.4.1\n",
      "INFO: 2020-05-13 20:12:17,079: Pandas version 1.0.2\n",
      "INFO: 2020-05-13 20:12:17,191: Matplotlib version 3.2.0\n"
     ]
    }
   ],
   "source": [
    "import logging\n",
    "logging.basicConfig(level=logging.INFO, format='%(levelname)s: %(asctime)s: %(message)s')\n",
    "\n",
    "import os\n",
    "import time\n",
    "import getpass\n",
    "\n",
    "import glob\n",
    "\n",
    "import numpy as np\n",
    "logging.info(\"Numpy version \" + np.__version__)\n",
    "import scipy as sp\n",
    "import scipy.signal as sig\n",
    "logging.info(\"Scipy version \" + sp.__version__)\n",
    "import pandas as pd\n",
    "logging.info(\"Pandas version \" + pd.__version__)\n",
    "import matplotlib\n",
    "import matplotlib.pyplot as plt\n",
    "logging.info(\"Matplotlib version \" + matplotlib.__version__)\n",
    "\n",
    "%load_ext autoreload\n",
    "%autoreload 2\n",
    "\n",
    "# For the standard seed use 34\n",
    "np.random.seed (34)"
   ]
  },
  {
   "cell_type": "markdown",
   "metadata": {},
   "source": [
    "### Define parameters"
   ]
  },
  {
   "cell_type": "code",
   "execution_count": 2,
   "metadata": {},
   "outputs": [],
   "source": [
    "datasets = ['cis','real']\n",
    "score_names = ['tremor', 'dyskinesia', 'on_off']\n",
    "\n",
    "labels_folder = 'data'"
   ]
  },
  {
   "cell_type": "markdown",
   "metadata": {},
   "source": [
    "### Read label files"
   ]
  },
  {
   "cell_type": "code",
   "execution_count": 3,
   "metadata": {},
   "outputs": [
    {
     "name": "stderr",
     "output_type": "stream",
     "text": [
      "INFO: 2020-05-13 20:12:21,818: Training cis: Read file \"data/CIS-PD_Training_Data_IDs_Labels.csv\" containing 1858 records\n",
      "INFO: 2020-05-13 20:12:21,822: Test cis: Read file \"data/CIS-PD_Test_Data_IDs_Labels.csv\" containing 618 records\n",
      "INFO: 2020-05-13 20:12:21,825: Training real: Read file \"data/REAL-PD_Training_Data_IDs_Labels.csv\" containing 591 records\n",
      "INFO: 2020-05-13 20:12:21,828: Test real: Read file \"data/REAL-PD_Test_Data_IDs_Labels.csv\" containing 191 records\n"
     ]
    }
   ],
   "source": [
    "training_labels, test_labels, test_data_folder = {}, {}, {}\n",
    "     \n",
    "for dataset in datasets:\n",
    "    test_label_file = os.path.join(labels_folder, dataset.upper()+'-PD_Test_Data_IDs_Labels.csv')\n",
    "    training_label_file = os.path.join(labels_folder, dataset.upper()+'-PD_Training_Data_IDs_Labels.csv')\n",
    "\n",
    "    training_labels[dataset] = pd.read_csv(training_label_file)\n",
    "    logging.info(f'Training {dataset}: Read file \"{training_label_file}\" containing {training_labels[dataset].shape[0]} records')\n",
    "\n",
    "    test_labels[dataset] = pd.read_csv(test_label_file)\n",
    "    logging.info(f'Test {dataset}: Read file \"{test_label_file}\" containing {test_labels[dataset].shape[0]} records')"
   ]
  },
  {
   "cell_type": "code",
   "execution_count": 4,
   "metadata": {},
   "outputs": [
    {
     "name": "stderr",
     "output_type": "stream",
     "text": [
      "INFO: 2020-05-13 20:12:24,716: Score: tremor: unique subjects 19:\n",
      "[1004 1006 1007 1019 1020 1023 1032 1034 1038 1043 1046 1048 1049 'hbv013'\n",
      " 'hbv038' 'hbv023' 'hbv054' 'hbv022' 'hbv012']\n",
      "INFO: 2020-05-13 20:12:24,779: Score: dyskinesia: unique subjects 16:\n",
      "[1004 1007 1019 1023 1034 1038 1039 1043 1044 1048 1049 'hbv013' 'hbv017'\n",
      " 'hbv054' 'hbv018' 'hbv043']\n",
      "INFO: 2020-05-13 20:12:24,832: Score: on_off: unique subjects 22:\n",
      "[1004 1006 1007 1019 1020 1023 1032 1034 1038 1039 1043 1044 1048 1049\n",
      " 1051 'hbv013' 'hbv038' 'hbv051' 'hbv077' 'hbv014' 'hbv043' 'hbv022']\n"
     ]
    }
   ],
   "source": [
    "train_df, test_df = {}, {}\n",
    "subjects = {}\n",
    "for score in score_names:\n",
    "    field_cols = ['measurement_id', 'subject_id', score]\n",
    "    train_df[score] = pd.concat([training_labels['cis'][field_cols], training_labels['real'][field_cols]]).dropna()\n",
    "    test_df[score] = pd.concat([test_labels['cis'][field_cols], test_labels['real'][field_cols]]).dropna()\n",
    "    subjects[score] = train_df[score]['subject_id'].unique()\n",
    "    logging.info(f'Score: {score}: unique subjects {subjects[score].shape[0]}:\\n{subjects[score]}')\n",
    "    for subject in subjects[score]:\n",
    "        test_df[score].loc[test_df[score]['subject_id']==subject, 'naive_mean'] = train_df[score][train_df[score]['subject_id']==subject][score].mean()\n",
    "        test_df[score].loc[test_df[score]['subject_id']==subject, 'naive_std'] = train_df[score][train_df[score]['subject_id']==subject][score].std()\n",
    "\n",
    "    test_df[score].set_index('measurement_id', inplace=True)"
   ]
  },
  {
   "cell_type": "markdown",
   "metadata": {},
   "source": [
    "### Read features scores"
   ]
  },
  {
   "cell_type": "code",
   "execution_count": 5,
   "metadata": {},
   "outputs": [
    {
     "name": "stderr",
     "output_type": "stream",
     "text": [
      "INFO: 2020-05-13 20:12:27,882: Score tremor - number of feature files 32\n",
      "INFO: 2020-05-13 20:12:28,000: Score dyskinesia - number of feature files 32\n",
      "INFO: 2020-05-13 20:12:28,114: Score on_off - number of feature files 32\n"
     ]
    }
   ],
   "source": [
    "for score in score_names:\n",
    "    feature_results = sorted(glob.glob(f'features/Submit_Final/*{score}_*.csv'))\n",
    "    logging.info(f'Score {score} - number of feature files {len(feature_results)}')\n",
    "    for i, file_name in enumerate(feature_results):\n",
    "        d = pd.read_csv(file_name).set_index('measurement_id')\n",
    "        test_df[score][f'f{i}'] = d['prediction']\n",
    "        idx = test_df[score][f'f{i}'].isna() & ~test_df[score]['naive_mean'].isna()\n",
    "        test_df[score].loc[idx,f'f{i}'] = test_df[score].loc[idx,'naive_mean']      "
   ]
  },
  {
   "cell_type": "markdown",
   "metadata": {},
   "source": [
    "### Generate a single dataframe"
   ]
  },
  {
   "cell_type": "code",
   "execution_count": 6,
   "metadata": {},
   "outputs": [],
   "source": [
    "for score in score_names:\n",
    "    feature_cols = test_df[score].filter(regex='^f')\n",
    "    test_df[score]['f_mean'] = feature_cols.mean(axis=1)\n",
    "#     test_df[score]['f_std'] = feature_cols.std(axis=1)\n",
    "#     test_df[score]['f_median'] = feature_cols.median(axis=1)\n",
    "    for i, subject in enumerate(subjects[score]):\n",
    "        for feature_col in feature_cols:\n",
    "            test_df[score].loc[test_df[score]['subject_id']==subject,'a'+feature_col[1:]] = (\n",
    "                test_df[score].loc[test_df[score]['subject_id']==subject, feature_col] - \n",
    "                test_df[score].loc[test_df[score]['subject_id']==subject, feature_col].mean() +\n",
    "                test_df[score].loc[test_df[score]['subject_id']==subject, 'naive_mean'].mean() )\n",
    "    \n",
    "    adjusted_cols = test_df[score].filter(regex='^a')\n",
    "    test_df[score]['a_mean'] = adjusted_cols.mean(axis=1)\n",
    "#     test_df[score]['a_std'] = adjusted_cols.std(axis=1)\n",
    "#     test_df[score]['a_median'] = adjusted_cols.median(axis=1)\n",
    "    \n",
    "    #idx = test_df[score][f'a_mean'].isna() & ~test_df[score]['naive_mean'].isna()\n",
    "    #test_df[score].loc[idx,f'a_mean'] = test_df[score].loc[idx,'naive_mean']      \n"
   ]
  },
  {
   "cell_type": "code",
   "execution_count": 7,
   "metadata": {},
   "outputs": [
    {
     "name": "stdout",
     "output_type": "stream",
     "text": [
      "[1004 1006 1007 1019 1020 1023 1032 1034 1038 1039 1043 1044 1046 1048\n",
      " 1049 1051 'hbv013' 'hbv038' 'hbv017' 'hbv023' 'hbv051' 'hbv077' 'hbv054'\n",
      " 'hbv014' 'hbv018' 'hbv043' 'hbv022' 'hbv012']\n",
      "[1004 1006 1007 1019 1020 1023 1032 1034 1038 1039 1043 1044 1046 1048\n",
      " 1049 1051 'hbv013' 'hbv038' 'hbv017' 'hbv023' 'hbv051' 'hbv077' 'hbv054'\n",
      " 'hbv014' 'hbv018' 'hbv043' 'hbv022' 'hbv012']\n",
      "[1004 1006 1007 1019 1020 1023 1032 1034 1038 1039 1043 1044 1046 1048\n",
      " 1049 1051 'hbv013' 'hbv038' 'hbv017' 'hbv023' 'hbv051' 'hbv077' 'hbv054'\n",
      " 'hbv014' 'hbv018' 'hbv043' 'hbv022' 'hbv012']\n"
     ]
    }
   ],
   "source": [
    "for score in score_names:\n",
    "    print(test_df[score]['subject_id'].unique())"
   ]
  },
  {
   "cell_type": "code",
   "execution_count": 8,
   "metadata": {},
   "outputs": [],
   "source": [
    "naive_subjects = {}\n",
    "naive_subjects['tremor'] = [1007, 1023, 1034, 1046, 'hbv038', 'hbv054', 'hbv012']\n",
    "naive_subjects['dyskinesia'] = [1007, 1023, 1034, 1043, 1044, 1048, 'hbv054', 'hbv018']\n",
    "naive_subjects['on_off'] = [1006, 1044, 'hbv013', 'hbv038', 'hbv051', 'hbv077', 'hbv043']\n",
    "\n",
    "\n",
    "\n",
    "for score in score_names:\n",
    "    for naive_subject in naive_subjects[score]:\n",
    "        test_df[score].loc[test_df[score]['subject_id'] == naive_subject,'a_mean'] =  test_df[score].loc[test_df[score]['subject_id'] == naive_subject,'naive_mean'] "
   ]
  },
  {
   "cell_type": "code",
   "execution_count": 9,
   "metadata": {},
   "outputs": [
    {
     "data": {
      "text/html": [
       "<div>\n",
       "<style scoped>\n",
       "    .dataframe tbody tr th:only-of-type {\n",
       "        vertical-align: middle;\n",
       "    }\n",
       "\n",
       "    .dataframe tbody tr th {\n",
       "        vertical-align: top;\n",
       "    }\n",
       "\n",
       "    .dataframe thead th {\n",
       "        text-align: right;\n",
       "    }\n",
       "</style>\n",
       "<table border=\"1\" class=\"dataframe\">\n",
       "  <thead>\n",
       "    <tr style=\"text-align: right;\">\n",
       "      <th></th>\n",
       "      <th>naive_mean</th>\n",
       "      <th>a_mean</th>\n",
       "      <th>subject_id</th>\n",
       "    </tr>\n",
       "    <tr>\n",
       "      <th>measurement_id</th>\n",
       "      <th></th>\n",
       "      <th></th>\n",
       "      <th></th>\n",
       "    </tr>\n",
       "  </thead>\n",
       "  <tbody>\n",
       "    <tr>\n",
       "      <th>2e2c36d8-62ce-4c14-bfa7-97793d7bf418</th>\n",
       "      <td>NaN</td>\n",
       "      <td>NaN</td>\n",
       "      <td>hbv017</td>\n",
       "    </tr>\n",
       "    <tr>\n",
       "      <th>0b8a1616-5c4b-451f-9341-1637bef7587b</th>\n",
       "      <td>2.130435</td>\n",
       "      <td>1.921431</td>\n",
       "      <td>hbv023</td>\n",
       "    </tr>\n",
       "    <tr>\n",
       "      <th>dad4ab3e-89cb-4ecd-80c4-c0da16688857</th>\n",
       "      <td>NaN</td>\n",
       "      <td>NaN</td>\n",
       "      <td>hbv051</td>\n",
       "    </tr>\n",
       "    <tr>\n",
       "      <th>7a806e8e-6191-4b77-87e8-362bb37872e7</th>\n",
       "      <td>0.327759</td>\n",
       "      <td>0.327759</td>\n",
       "      <td>1007</td>\n",
       "    </tr>\n",
       "    <tr>\n",
       "      <th>e19233ad-5568-43b2-8a3f-d989dd2bea52</th>\n",
       "      <td>0.418079</td>\n",
       "      <td>0.679263</td>\n",
       "      <td>1032</td>\n",
       "    </tr>\n",
       "    <tr>\n",
       "      <th>6877b35f-474a-41b6-ab7b-d9fdcd3155ca</th>\n",
       "      <td>1.000000</td>\n",
       "      <td>0.460486</td>\n",
       "      <td>1004</td>\n",
       "    </tr>\n",
       "    <tr>\n",
       "      <th>bcddfca4-138b-420a-a45b-8ae5871214ac</th>\n",
       "      <td>0.349057</td>\n",
       "      <td>0.349057</td>\n",
       "      <td>1023</td>\n",
       "    </tr>\n",
       "    <tr>\n",
       "      <th>a66069e9-d744-4ffb-8f4b-5df7b3ca5822</th>\n",
       "      <td>0.373134</td>\n",
       "      <td>0.176380</td>\n",
       "      <td>hbv013</td>\n",
       "    </tr>\n",
       "    <tr>\n",
       "      <th>ddb8178e-9b5d-4146-9941-bb24e1161c2c</th>\n",
       "      <td>1.347826</td>\n",
       "      <td>1.187425</td>\n",
       "      <td>1038</td>\n",
       "    </tr>\n",
       "    <tr>\n",
       "      <th>e854ed3a-59f3-44c0-85db-1f4517824f70</th>\n",
       "      <td>NaN</td>\n",
       "      <td>NaN</td>\n",
       "      <td>1051</td>\n",
       "    </tr>\n",
       "  </tbody>\n",
       "</table>\n",
       "</div>"
      ],
      "text/plain": [
       "                                      naive_mean    a_mean subject_id\n",
       "measurement_id                                                       \n",
       "2e2c36d8-62ce-4c14-bfa7-97793d7bf418         NaN       NaN     hbv017\n",
       "0b8a1616-5c4b-451f-9341-1637bef7587b    2.130435  1.921431     hbv023\n",
       "dad4ab3e-89cb-4ecd-80c4-c0da16688857         NaN       NaN     hbv051\n",
       "7a806e8e-6191-4b77-87e8-362bb37872e7    0.327759  0.327759       1007\n",
       "e19233ad-5568-43b2-8a3f-d989dd2bea52    0.418079  0.679263       1032\n",
       "6877b35f-474a-41b6-ab7b-d9fdcd3155ca    1.000000  0.460486       1004\n",
       "bcddfca4-138b-420a-a45b-8ae5871214ac    0.349057  0.349057       1023\n",
       "a66069e9-d744-4ffb-8f4b-5df7b3ca5822    0.373134  0.176380     hbv013\n",
       "ddb8178e-9b5d-4146-9941-bb24e1161c2c    1.347826  1.187425       1038\n",
       "e854ed3a-59f3-44c0-85db-1f4517824f70         NaN       NaN       1051"
      ]
     },
     "execution_count": 9,
     "metadata": {},
     "output_type": "execute_result"
    }
   ],
   "source": [
    "test_df['tremor'][['naive_mean','a_mean', 'subject_id']].sample(10)"
   ]
  },
  {
   "cell_type": "code",
   "execution_count": 10,
   "metadata": {},
   "outputs": [
    {
     "name": "stderr",
     "output_type": "stream",
     "text": [
      "INFO: 2020-05-13 20:12:54,858: Submission file 588 records\n",
      "INFO: 2020-05-13 20:12:54,864: Submission file 482 records\n",
      "INFO: 2020-05-13 20:12:54,869: Submission file 695 records\n"
     ]
    }
   ],
   "source": [
    "submit = {}\n",
    "                    \n",
    "for score in score_names:\n",
    "    f=glob.glob(f'features/BEAT-PD_SC*_{score}_Submit_Final.csv')\n",
    "    submit[score] = pd.read_csv(f[0])\n",
    "    logging.info(f'Submission file {submit[score].shape[0]} records')\n",
    "    s = submit[score].set_index('measurement_id')\n",
    "    s['prediction'] = test_df[score].loc[s.index, 'a_mean']        \n",
    "    \n",
    "    s.loc[s['prediction']<0,'prediction']=0\n",
    "#     s['prediction'] = alldf.loc[s.index,'naive']\n",
    "\n",
    "#     s.loc[negindex,'prediction'] = sneg.loc[negindex,['MeanScore','MeanFeature']].mean(axis=1)\n",
    "#     posindex = s.index.intersection(spos.index)\n",
    "#     s.loc[posindex,'prediction'] = spos.loc[posindex,['MeanScore','MeanFeature']].mean(axis=1)\n",
    "    s.to_csv(f[0].replace('.csv','_Predict.csv'))"
   ]
  }
 ],
 "metadata": {
  "kernelspec": {
   "display_name": "Python 3",
   "language": "python",
   "name": "python3"
  },
  "language_info": {
   "codemirror_mode": {
    "name": "ipython",
    "version": 3
   },
   "file_extension": ".py",
   "mimetype": "text/x-python",
   "name": "python",
   "nbconvert_exporter": "python",
   "pygments_lexer": "ipython3",
   "version": "3.6.9"
  }
 },
 "nbformat": 4,
 "nbformat_minor": 4
}
