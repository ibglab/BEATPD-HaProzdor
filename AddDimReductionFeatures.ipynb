{
 "cells": [
  {
   "cell_type": "markdown",
   "metadata": {},
   "source": [
    "# Add diminsionality reduction features\n",
    "Add PCA and autoencoder features to the segments"
   ]
  },
  {
   "cell_type": "code",
   "execution_count": null,
   "metadata": {},
   "outputs": [],
   "source": [
    "import logging\n",
    "logging.basicConfig(level=logging.INFO, format='%(levelname)s: %(asctime)s: %(message)s')\n",
    "\n",
    "import pandas as pd\n",
    "import os\n",
    "import warnings\n",
    "import ClassificationUtils as helpFunc\n",
    "\n",
    "%load_ext autoreload\n",
    "%autoreload 2\n",
    "\n",
    "dataSetFolderName = 'SegmentedData_winLen500_overlap250_'\n",
    "datasets = ['cis', 'real']\n",
    "trainOrTests = ['Training', 'Test']"
   ]
  },
  {
   "cell_type": "code",
   "execution_count": null,
   "metadata": {},
   "outputs": [],
   "source": [
    "dataSetFolderName = os.path.join('pre_process', dataSetFolderName)\n",
    "labels_folder = 'data'"
   ]
  },
  {
   "cell_type": "code",
   "execution_count": null,
   "metadata": {},
   "outputs": [],
   "source": [
    "for dataset in datasets:\n",
    "    label_file = os.path.join(labels_folder, dataset.upper()+'-PD_Training_Data_IDs_Labels.csv')\n",
    "    trainig_labels = pd.read_csv(label_file)\n",
    "    subject_ids = trainig_labels['subject_id'].unique()\n",
    "    warnings.filterwarnings('ignore')\n",
    "\n",
    "    # add pca and autoencoder features\n",
    "    for id in subject_ids:\n",
    "        subjectFolderName = dataSetFolderName + str(id)\n",
    "        dataTrain = pd.read_csv(os.path.join(subjectFolderName, 'X_data.txt'), delim_whitespace=True, header=None, mangle_dupe_cols=True)\n",
    "        dataTest = pd.read_csv(os.path.join(subjectFolderName+'_test', 'X_data.txt'), delim_whitespace=True, header=None, mangle_dupe_cols=True)\n",
    "        data = pd.concat([dataTrain, dataTest], ignore_index=True)\n",
    "        # add PCA features\n",
    "        data = helpFunc.addPCAfeatures(data, 5)    \n",
    "        # add autoencoder features\n",
    "        data = helpFunc.addAutoencoderFeatures(data)\n",
    "        dataTrainF = data.iloc[0:dataTrain.shape[0]]\n",
    "        dataTestF = data.iloc[dataTrain.shape[0]:]\n",
    "        dataTrainF.to_csv(os.path.join(subjectFolderName, 'X_data_fullFeatures.txt'),sep=' ', index=False, header=False)\n",
    "        dataTestF.to_csv(os.path.join(subjectFolderName+'_test', 'X_data_fullFeatures.txt'),sep=' ', index=False, header=False)"
   ]
  },
  {
   "cell_type": "code",
   "execution_count": null,
   "metadata": {},
   "outputs": [],
   "source": []
  }
 ],
 "metadata": {
  "kernelspec": {
   "display_name": "Python 3",
   "language": "python",
   "name": "python3"
  },
  "language_info": {
   "codemirror_mode": {
    "name": "ipython",
    "version": 3
   },
   "file_extension": ".py",
   "mimetype": "text/x-python",
   "name": "python",
   "nbconvert_exporter": "python",
   "pygments_lexer": "ipython3",
   "version": "3.6.9"
  }
 },
 "nbformat": 4,
 "nbformat_minor": 4
}
